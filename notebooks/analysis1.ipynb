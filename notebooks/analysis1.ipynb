{
 "cells": [
  {
   "cell_type": "markdown",
   "metadata": {},
   "source": [
    "# Will McFarland"
   ]
  },
  {
   "cell_type": "markdown",
   "metadata": {},
   "source": [
    "## Research question/interests\n",
    "I would like to analyze the librosa data to learn more about how a genre might be able to be identified by the auditory features of a song."
   ]
  },
  {
   "cell_type": "markdown",
   "metadata": {},
   "source": [
    "## Exploratory Data Analysis"
   ]
  },
  {
   "cell_type": "code",
   "execution_count": 1,
   "metadata": {},
   "outputs": [],
   "source": [
    "# Import libraries\n",
    "import matplotlib.pyplot as plt\n",
    "import numpy as np\n",
    "import pandas as pd\n",
    "import re\n",
    "import seaborn as sns"
   ]
  },
  {
   "cell_type": "markdown",
   "metadata": {},
   "source": [
    "Lets look at tracks first.\n",
    "Loading the data"
   ]
  },
  {
   "cell_type": "code",
   "execution_count": 2,
   "metadata": {},
   "outputs": [],
   "source": [
    "tracks = pd.read_csv(\"../data/raw/tracks.csv\", low_memory=False)"
   ]
  },
  {
   "cell_type": "markdown",
   "metadata": {},
   "source": [
    "What does the data look like at a glance?"
   ]
  },
  {
   "cell_type": "code",
   "execution_count": 3,
   "metadata": {},
   "outputs": [
    {
     "data": {
      "text/html": [
       "<div>\n",
       "<style scoped>\n",
       "    .dataframe tbody tr th:only-of-type {\n",
       "        vertical-align: middle;\n",
       "    }\n",
       "\n",
       "    .dataframe tbody tr th {\n",
       "        vertical-align: top;\n",
       "    }\n",
       "\n",
       "    .dataframe thead th {\n",
       "        text-align: right;\n",
       "    }\n",
       "</style>\n",
       "<table border=\"1\" class=\"dataframe\">\n",
       "  <thead>\n",
       "    <tr style=\"text-align: right;\">\n",
       "      <th></th>\n",
       "      <th>Unnamed: 0</th>\n",
       "      <th>album</th>\n",
       "      <th>album.1</th>\n",
       "      <th>album.2</th>\n",
       "      <th>album.3</th>\n",
       "      <th>album.4</th>\n",
       "      <th>album.5</th>\n",
       "      <th>album.6</th>\n",
       "      <th>album.7</th>\n",
       "      <th>album.8</th>\n",
       "      <th>...</th>\n",
       "      <th>track.10</th>\n",
       "      <th>track.11</th>\n",
       "      <th>track.12</th>\n",
       "      <th>track.13</th>\n",
       "      <th>track.14</th>\n",
       "      <th>track.15</th>\n",
       "      <th>track.16</th>\n",
       "      <th>track.17</th>\n",
       "      <th>track.18</th>\n",
       "      <th>track.19</th>\n",
       "    </tr>\n",
       "  </thead>\n",
       "  <tbody>\n",
       "    <tr>\n",
       "      <th>0</th>\n",
       "      <td>NaN</td>\n",
       "      <td>comments</td>\n",
       "      <td>date_created</td>\n",
       "      <td>date_released</td>\n",
       "      <td>engineer</td>\n",
       "      <td>favorites</td>\n",
       "      <td>id</td>\n",
       "      <td>information</td>\n",
       "      <td>listens</td>\n",
       "      <td>producer</td>\n",
       "      <td>...</td>\n",
       "      <td>information</td>\n",
       "      <td>interest</td>\n",
       "      <td>language_code</td>\n",
       "      <td>license</td>\n",
       "      <td>listens</td>\n",
       "      <td>lyricist</td>\n",
       "      <td>number</td>\n",
       "      <td>publisher</td>\n",
       "      <td>tags</td>\n",
       "      <td>title</td>\n",
       "    </tr>\n",
       "    <tr>\n",
       "      <th>1</th>\n",
       "      <td>track_id</td>\n",
       "      <td>NaN</td>\n",
       "      <td>NaN</td>\n",
       "      <td>NaN</td>\n",
       "      <td>NaN</td>\n",
       "      <td>NaN</td>\n",
       "      <td>NaN</td>\n",
       "      <td>NaN</td>\n",
       "      <td>NaN</td>\n",
       "      <td>NaN</td>\n",
       "      <td>...</td>\n",
       "      <td>NaN</td>\n",
       "      <td>NaN</td>\n",
       "      <td>NaN</td>\n",
       "      <td>NaN</td>\n",
       "      <td>NaN</td>\n",
       "      <td>NaN</td>\n",
       "      <td>NaN</td>\n",
       "      <td>NaN</td>\n",
       "      <td>NaN</td>\n",
       "      <td>NaN</td>\n",
       "    </tr>\n",
       "    <tr>\n",
       "      <th>2</th>\n",
       "      <td>2</td>\n",
       "      <td>0</td>\n",
       "      <td>2008-11-26 01:44:45</td>\n",
       "      <td>2009-01-05 00:00:00</td>\n",
       "      <td>NaN</td>\n",
       "      <td>4</td>\n",
       "      <td>1</td>\n",
       "      <td>&lt;p&gt;&lt;/p&gt;</td>\n",
       "      <td>6073</td>\n",
       "      <td>NaN</td>\n",
       "      <td>...</td>\n",
       "      <td>NaN</td>\n",
       "      <td>4656</td>\n",
       "      <td>en</td>\n",
       "      <td>Attribution-NonCommercial-ShareAlike 3.0 Inter...</td>\n",
       "      <td>1293</td>\n",
       "      <td>NaN</td>\n",
       "      <td>3</td>\n",
       "      <td>NaN</td>\n",
       "      <td>[]</td>\n",
       "      <td>Food</td>\n",
       "    </tr>\n",
       "    <tr>\n",
       "      <th>3</th>\n",
       "      <td>3</td>\n",
       "      <td>0</td>\n",
       "      <td>2008-11-26 01:44:45</td>\n",
       "      <td>2009-01-05 00:00:00</td>\n",
       "      <td>NaN</td>\n",
       "      <td>4</td>\n",
       "      <td>1</td>\n",
       "      <td>&lt;p&gt;&lt;/p&gt;</td>\n",
       "      <td>6073</td>\n",
       "      <td>NaN</td>\n",
       "      <td>...</td>\n",
       "      <td>NaN</td>\n",
       "      <td>1470</td>\n",
       "      <td>en</td>\n",
       "      <td>Attribution-NonCommercial-ShareAlike 3.0 Inter...</td>\n",
       "      <td>514</td>\n",
       "      <td>NaN</td>\n",
       "      <td>4</td>\n",
       "      <td>NaN</td>\n",
       "      <td>[]</td>\n",
       "      <td>Electric Ave</td>\n",
       "    </tr>\n",
       "    <tr>\n",
       "      <th>4</th>\n",
       "      <td>5</td>\n",
       "      <td>0</td>\n",
       "      <td>2008-11-26 01:44:45</td>\n",
       "      <td>2009-01-05 00:00:00</td>\n",
       "      <td>NaN</td>\n",
       "      <td>4</td>\n",
       "      <td>1</td>\n",
       "      <td>&lt;p&gt;&lt;/p&gt;</td>\n",
       "      <td>6073</td>\n",
       "      <td>NaN</td>\n",
       "      <td>...</td>\n",
       "      <td>NaN</td>\n",
       "      <td>1933</td>\n",
       "      <td>en</td>\n",
       "      <td>Attribution-NonCommercial-ShareAlike 3.0 Inter...</td>\n",
       "      <td>1151</td>\n",
       "      <td>NaN</td>\n",
       "      <td>6</td>\n",
       "      <td>NaN</td>\n",
       "      <td>[]</td>\n",
       "      <td>This World</td>\n",
       "    </tr>\n",
       "  </tbody>\n",
       "</table>\n",
       "<p>5 rows × 53 columns</p>\n",
       "</div>"
      ],
      "text/plain": [
       "  Unnamed: 0     album              album.1              album.2   album.3  \\\n",
       "0        NaN  comments         date_created        date_released  engineer   \n",
       "1   track_id       NaN                  NaN                  NaN       NaN   \n",
       "2          2         0  2008-11-26 01:44:45  2009-01-05 00:00:00       NaN   \n",
       "3          3         0  2008-11-26 01:44:45  2009-01-05 00:00:00       NaN   \n",
       "4          5         0  2008-11-26 01:44:45  2009-01-05 00:00:00       NaN   \n",
       "\n",
       "     album.4 album.5      album.6  album.7   album.8  ...     track.10  \\\n",
       "0  favorites      id  information  listens  producer  ...  information   \n",
       "1        NaN     NaN          NaN      NaN       NaN  ...          NaN   \n",
       "2          4       1      <p></p>     6073       NaN  ...          NaN   \n",
       "3          4       1      <p></p>     6073       NaN  ...          NaN   \n",
       "4          4       1      <p></p>     6073       NaN  ...          NaN   \n",
       "\n",
       "   track.11       track.12                                           track.13  \\\n",
       "0  interest  language_code                                            license   \n",
       "1       NaN            NaN                                                NaN   \n",
       "2      4656             en  Attribution-NonCommercial-ShareAlike 3.0 Inter...   \n",
       "3      1470             en  Attribution-NonCommercial-ShareAlike 3.0 Inter...   \n",
       "4      1933             en  Attribution-NonCommercial-ShareAlike 3.0 Inter...   \n",
       "\n",
       "  track.14  track.15 track.16   track.17 track.18      track.19  \n",
       "0  listens  lyricist   number  publisher     tags         title  \n",
       "1      NaN       NaN      NaN        NaN      NaN           NaN  \n",
       "2     1293       NaN        3        NaN       []          Food  \n",
       "3      514       NaN        4        NaN       []  Electric Ave  \n",
       "4     1151       NaN        6        NaN       []    This World  \n",
       "\n",
       "[5 rows x 53 columns]"
      ]
     },
     "execution_count": 3,
     "metadata": {},
     "output_type": "execute_result"
    }
   ],
   "source": [
    "tracks.head()"
   ]
  },
  {
   "cell_type": "markdown",
   "metadata": {},
   "source": [
    "This doesn't show us all the columns, so lets view a list of them all. Unfortunetly the column names are kind of spread between the first 2 rows (i.e. the row pandas assigned to the header and row 0), so lets print those 2 values together for each column."
   ]
  },
  {
   "cell_type": "code",
   "execution_count": 4,
   "metadata": {},
   "outputs": [
    {
     "data": {
      "text/plain": [
       "Unnamed: 0                  NaN\n",
       "album                  comments\n",
       "album.1            date_created\n",
       "album.2           date_released\n",
       "album.3                engineer\n",
       "album.4               favorites\n",
       "album.5                      id\n",
       "album.6             information\n",
       "album.7                 listens\n",
       "album.8                producer\n",
       "album.9                    tags\n",
       "album.10                  title\n",
       "album.11                 tracks\n",
       "album.12                   type\n",
       "artist        active_year_begin\n",
       "artist.1        active_year_end\n",
       "artist.2      associated_labels\n",
       "artist.3                    bio\n",
       "artist.4               comments\n",
       "artist.5           date_created\n",
       "artist.6              favorites\n",
       "artist.7                     id\n",
       "artist.8               latitude\n",
       "artist.9               location\n",
       "artist.10             longitude\n",
       "artist.11               members\n",
       "artist.12                  name\n",
       "artist.13      related_projects\n",
       "artist.14                  tags\n",
       "artist.15               website\n",
       "artist.16        wikipedia_page\n",
       "set                       split\n",
       "set.1                    subset\n",
       "track                  bit_rate\n",
       "track.1                comments\n",
       "track.2                composer\n",
       "track.3            date_created\n",
       "track.4           date_recorded\n",
       "track.5                duration\n",
       "track.6               favorites\n",
       "track.7               genre_top\n",
       "track.8                  genres\n",
       "track.9              genres_all\n",
       "track.10            information\n",
       "track.11               interest\n",
       "track.12          language_code\n",
       "track.13                license\n",
       "track.14                listens\n",
       "track.15               lyricist\n",
       "track.16                 number\n",
       "track.17              publisher\n",
       "track.18                   tags\n",
       "track.19                  title\n",
       "Name: 0, dtype: object"
      ]
     },
     "execution_count": 4,
     "metadata": {},
     "output_type": "execute_result"
    }
   ],
   "source": [
    "tracks.iloc[0] # This will print the row header and the vale at row 0 for each column"
   ]
  },
  {
   "cell_type": "markdown",
   "metadata": {},
   "source": [
    "We will properly rename all of the columns in the analysis pipeline, but for the purposes of this EDA, lets just look at a few columns and rename them manually.\n",
    "\n",
    "We have to remember here to use the header names."
   ]
  },
  {
   "cell_type": "code",
   "execution_count": 5,
   "metadata": {},
   "outputs": [
    {
     "data": {
      "text/html": [
       "<div>\n",
       "<style scoped>\n",
       "    .dataframe tbody tr th:only-of-type {\n",
       "        vertical-align: middle;\n",
       "    }\n",
       "\n",
       "    .dataframe tbody tr th {\n",
       "        vertical-align: top;\n",
       "    }\n",
       "\n",
       "    .dataframe thead th {\n",
       "        text-align: right;\n",
       "    }\n",
       "</style>\n",
       "<table border=\"1\" class=\"dataframe\">\n",
       "  <thead>\n",
       "    <tr style=\"text-align: right;\">\n",
       "      <th></th>\n",
       "      <th>track id</th>\n",
       "      <th>genre</th>\n",
       "      <th>artist name</th>\n",
       "      <th>release date</th>\n",
       "    </tr>\n",
       "  </thead>\n",
       "  <tbody>\n",
       "    <tr>\n",
       "      <th>2</th>\n",
       "      <td>2</td>\n",
       "      <td>Hip-Hop</td>\n",
       "      <td>AWOL</td>\n",
       "      <td>2009-01-05 00:00:00</td>\n",
       "    </tr>\n",
       "    <tr>\n",
       "      <th>3</th>\n",
       "      <td>3</td>\n",
       "      <td>Hip-Hop</td>\n",
       "      <td>AWOL</td>\n",
       "      <td>2009-01-05 00:00:00</td>\n",
       "    </tr>\n",
       "    <tr>\n",
       "      <th>4</th>\n",
       "      <td>5</td>\n",
       "      <td>Hip-Hop</td>\n",
       "      <td>AWOL</td>\n",
       "      <td>2009-01-05 00:00:00</td>\n",
       "    </tr>\n",
       "    <tr>\n",
       "      <th>5</th>\n",
       "      <td>10</td>\n",
       "      <td>Pop</td>\n",
       "      <td>Kurt Vile</td>\n",
       "      <td>2008-02-06 00:00:00</td>\n",
       "    </tr>\n",
       "    <tr>\n",
       "      <th>11</th>\n",
       "      <td>134</td>\n",
       "      <td>Hip-Hop</td>\n",
       "      <td>AWOL</td>\n",
       "      <td>2009-01-05 00:00:00</td>\n",
       "    </tr>\n",
       "    <tr>\n",
       "      <th>...</th>\n",
       "      <td>...</td>\n",
       "      <td>...</td>\n",
       "      <td>...</td>\n",
       "      <td>...</td>\n",
       "    </tr>\n",
       "    <tr>\n",
       "      <th>106570</th>\n",
       "      <td>155315</td>\n",
       "      <td>Rock</td>\n",
       "      <td>Spowder</td>\n",
       "      <td>2017-02-17 00:00:00</td>\n",
       "    </tr>\n",
       "    <tr>\n",
       "      <th>106571</th>\n",
       "      <td>155316</td>\n",
       "      <td>Rock</td>\n",
       "      <td>Spowder</td>\n",
       "      <td>2017-02-17 00:00:00</td>\n",
       "    </tr>\n",
       "    <tr>\n",
       "      <th>106572</th>\n",
       "      <td>155317</td>\n",
       "      <td>Rock</td>\n",
       "      <td>Spowder</td>\n",
       "      <td>2017-02-17 00:00:00</td>\n",
       "    </tr>\n",
       "    <tr>\n",
       "      <th>106573</th>\n",
       "      <td>155318</td>\n",
       "      <td>Rock</td>\n",
       "      <td>Spowder</td>\n",
       "      <td>2017-02-17 00:00:00</td>\n",
       "    </tr>\n",
       "    <tr>\n",
       "      <th>106574</th>\n",
       "      <td>155319</td>\n",
       "      <td>Rock</td>\n",
       "      <td>Spowder</td>\n",
       "      <td>2017-02-17 00:00:00</td>\n",
       "    </tr>\n",
       "  </tbody>\n",
       "</table>\n",
       "<p>33512 rows × 4 columns</p>\n",
       "</div>"
      ],
      "text/plain": [
       "       track id    genre artist name         release date\n",
       "2             2  Hip-Hop        AWOL  2009-01-05 00:00:00\n",
       "3             3  Hip-Hop        AWOL  2009-01-05 00:00:00\n",
       "4             5  Hip-Hop        AWOL  2009-01-05 00:00:00\n",
       "5            10      Pop   Kurt Vile  2008-02-06 00:00:00\n",
       "11          134  Hip-Hop        AWOL  2009-01-05 00:00:00\n",
       "...         ...      ...         ...                  ...\n",
       "106570   155315     Rock     Spowder  2017-02-17 00:00:00\n",
       "106571   155316     Rock     Spowder  2017-02-17 00:00:00\n",
       "106572   155317     Rock     Spowder  2017-02-17 00:00:00\n",
       "106573   155318     Rock     Spowder  2017-02-17 00:00:00\n",
       "106574   155319     Rock     Spowder  2017-02-17 00:00:00\n",
       "\n",
       "[33512 rows x 4 columns]"
      ]
     },
     "execution_count": 5,
     "metadata": {},
     "output_type": "execute_result"
    }
   ],
   "source": [
    "track_subset = tracks[['Unnamed: 0', 'track.7', 'artist.12', 'album.2']].rename(columns={'Unnamed: 0': 'track id', 'track.7': 'genre', 'artist.12': 'artist name', 'album.2': 'release date'}).dropna(axis=0, how='any')\n",
    "track_subset"
   ]
  },
  {
   "cell_type": "markdown",
   "metadata": {},
   "source": [
    "So we have genre, artist name, and release date. Lets graph it!\n",
    "\n",
    "Starting with just genre..."
   ]
  },
  {
   "cell_type": "code",
   "execution_count": 6,
   "metadata": {},
   "outputs": [
    {
     "data": {
      "text/plain": [
       "<AxesSubplot:>"
      ]
     },
     "execution_count": 6,
     "metadata": {},
     "output_type": "execute_result"
    },
    {
     "data": {
      "image/png": "[encoded data removed]",
      "text/plain": [
       "<Figure size 432x288 with 1 Axes>"
      ]
     },
     "metadata": {
      "needs_background": "light"
     },
     "output_type": "display_data"
    }
   ],
   "source": [
    "plt.figure()\n",
    "genre_sizes = track_subset.iloc[:, 1].value_counts()\n",
    "genre_sizes.plot(kind='bar')"
   ]
  },
  {
   "cell_type": "markdown",
   "metadata": {},
   "source": [
    "Now let's see genres over time..."
   ]
  },
  {
   "cell_type": "code",
   "execution_count": 7,
   "metadata": {},
   "outputs": [
    {
     "data": {
      "text/plain": [
       "<matplotlib.legend.Legend at 0x7f06a45d25b0>"
      ]
     },
     "execution_count": 7,
     "metadata": {},
     "output_type": "execute_result"
    },
    {
     "data": {
      "image/png": "[encoded data removed]",
      "text/plain": [
       "<Figure size 576x432 with 1 Axes>"
      ]
     },
     "metadata": {
      "needs_background": "light"
     },
     "output_type": "display_data"
    }
   ],
   "source": [
    "plt.figure(figsize=(8,6))\n",
    "\n",
    "# Add column that is just year\n",
    "track_subset['year'] = pd.DatetimeIndex(track_subset['release date']).year\n",
    "\n",
    "# Get value counts of year and genre together\n",
    "genres_years = track_subset[['year', 'genre']]\n",
    "genres_years  = pd.DataFrame(track_subset[['year', 'genre']].value_counts()).reset_index().rename(columns={0: 'count'}).sort_values(['year', 'genre'])\n",
    "\n",
    "#plt.plot(genres_years.loc[genres_years['genre'] == 'Rock', 'year'], genres_years.loc[genres_years['genre'] == 'Rock', 'count'])\n",
    "# Plot number of tracks per year by genre\n",
    "# for g in genres_years['genre'].unique():\n",
    "for g in ['Rock', 'Pop', 'Electronic']:\n",
    "    plt.plot(genres_years.loc[genres_years['genre'] == g, 'year'], genres_years.loc[genres_years['genre'] == g, 'count'], label=g)\n",
    "\n",
    "# Most of our data is between 1990 and 2017\n",
    "plt.xlim([1990, 2017])\n",
    "\n",
    "# Show legend\n",
    "plt.legend()"
   ]
  },
  {
   "cell_type": "markdown",
   "metadata": {},
   "source": [
    "The librosa data is much more abstract. We will dive into this more in the future, but for now lets look at one column that is easy to understand.\n",
    "Root Mean Square Energy (RMSE) represents the energy of a given cell of autio."
   ]
  },
  {
   "cell_type": "code",
   "execution_count": 64,
   "metadata": {},
   "outputs": [],
   "source": [
    "rmse = pd.read_csv(\"../data/raw/features.csv\", nrows=6000, skiprows=[0,1,2], usecols=[0, 395])\n",
    "rmse = rmse.rename(columns={\"track_id\":\"track id\", \"Unnamed: 395\":\"rmse_mean\"})\n",
    "track_subset['track id'] = track_subset['track id'].astype(int) # Track ID needs to be int type (it starts as string for some reason)\n",
    "rmse_meta = pd.merge(track_subset, rmse, on=\"track id\", how=\"inner\") # Combine metadata with RMSE"
   ]
  },
  {
   "cell_type": "code",
   "execution_count": 65,
   "metadata": {},
   "outputs": [
    {
     "data": {
      "text/plain": [
       "Text(0, 0.5, 'Mean RMSE')"
      ]
     },
     "execution_count": 65,
     "metadata": {},
     "output_type": "execute_result"
    },
    {
     "data": {
      "image/png": "[encoded data removed]",
      "text/plain": [
       "<Figure size 1152x720 with 1 Axes>"
      ]
     },
     "metadata": {
      "needs_background": "light"
     },
     "output_type": "display_data"
    }
   ],
   "source": [
    "plt.figure(figsize=(16,10))\n",
    "\n",
    "plt.scatter(rmse_meta['genre'], rmse_meta['rmse_mean'])\n",
    "\n",
    "plt.ylabel(\"Mean RMSE\")"
   ]
  },
  {
   "cell_type": "markdown",
   "metadata": {},
   "source": [
    "Another (perhaps more clear) way of visualizing this data is through individual histograms for each genre."
   ]
  },
  {
   "cell_type": "code",
   "execution_count": 105,
   "metadata": {},
   "outputs": [
    {
     "data": {
      "text/plain": [
       "<matplotlib.legend.Legend at 0x7f0628595520>"
      ]
     },
     "execution_count": 105,
     "metadata": {},
     "output_type": "execute_result"
    },
    {
     "data": {
      "image/png": "[encoded data removed]",
      "text/plain": [
       "<Figure size 1152x720 with 1 Axes>"
      ]
     },
     "metadata": {
      "needs_background": "light"
     },
     "output_type": "display_data"
    }
   ],
   "source": [
    "plt.figure(figsize=(16,10))\n",
    "\n",
    "# Take equally sized samples for 3 genres that exemplify different energies: Rock, Jazz, Electronic\n",
    "rock = rmse_meta.loc[rmse_meta['genre'] == 'Rock', 'rmse_mean'].head(100)\n",
    "hiphop = rmse_meta.loc[rmse_meta['genre'] == 'Hip-Hop', 'rmse_mean'].head(100)\n",
    "spoken = rmse_meta.loc[rmse_meta['genre'] == 'Spoken', 'rmse_mean'].head(100)\n",
    "\n",
    "bins = np.linspace(0, 10, 20)\n",
    "\n",
    "plt.hist(rock, bins, label='Rock', color='blue', edgecolor='black', linewidth=1.2)\n",
    "plt.xlabel('Mean RMSE')\n",
    "plt.legend()"
   ]
  },
  {
   "cell_type": "code",
   "execution_count": 104,
   "metadata": {},
   "outputs": [
    {
     "data": {
      "text/plain": [
       "<matplotlib.legend.Legend at 0x7f0623969df0>"
      ]
     },
     "execution_count": 104,
     "metadata": {},
     "output_type": "execute_result"
    },
    {
     "data": {
      "image/png": "[encoded data removed]",
      "text/plain": [
       "<Figure size 1152x720 with 1 Axes>"
      ]
     },
     "metadata": {
      "needs_background": "light"
     },
     "output_type": "display_data"
    }
   ],
   "source": [
    "plt.figure(figsize=(16,10))\n",
    "plt.hist(hiphop, bins, label='Hip-Hop', color='red', edgecolor='black', linewidth=1.2)\n",
    "plt.xlabel('Mean RMSE')\n",
    "plt.legend()"
   ]
  },
  {
   "cell_type": "code",
   "execution_count": 106,
   "metadata": {},
   "outputs": [
    {
     "data": {
      "text/plain": [
       "<matplotlib.legend.Legend at 0x7f0628384ee0>"
      ]
     },
     "execution_count": 106,
     "metadata": {},
     "output_type": "execute_result"
    },
    {
     "data": {
      "image/png": "[encoded data removed]",
      "text/plain": [
       "<Figure size 1152x720 with 1 Axes>"
      ]
     },
     "metadata": {
      "needs_background": "light"
     },
     "output_type": "display_data"
    }
   ],
   "source": [
    "plt.figure(figsize=(16,10))\n",
    "plt.hist(spoken, bins, label='Spoken', color='green', edgecolor='black', linewidth=1.2)\n",
    "plt.xlabel('Mean RMSE')\n",
    "plt.legend()"
   ]
  },
  {
   "cell_type": "markdown",
   "metadata": {},
   "source": [
    "These histograms do a good job showing how energy changes with different genres. Unfortunetely we don't have any genres that have consistently high energies such as metal, but we do have enough variety to see some trends. For example, rock encompasses a very wide amount of energies (rock ballads vs hard rock for ex.). Comparing this to hip-hop, we see a much more consistent level of energy due to the more narrow variety of energies encompassed in that genre (at least in the sample tracks in this dataset). Spoken-word audio makes a good benchmark as it we expect that to be consistently low-energy, which we see in the final histogram."
   ]
  },
  {
   "cell_type": "markdown",
   "metadata": {},
   "source": [
    "## Analysis Pipeline - Tracks"
   ]
  },
  {
   "cell_type": "markdown",
   "metadata": {},
   "source": [
    "### Cleaning the tracks data"
   ]
  },
  {
   "cell_type": "markdown",
   "metadata": {},
   "source": [
    "Tracks data starts on row 4, and the first 2 rows should be combined to form the column names."
   ]
  },
  {
   "cell_type": "code",
   "execution_count": null,
   "metadata": {},
   "outputs": [],
   "source": [
    "for i in range(0, len(tracks.columns)):\n",
    "    # Remove dot and number at end of original name\n",
    "    orig = re.sub('[\\\\.][0-9]*', '', tracks.columns[i]) # Use a regex to remove dot followed by any number of numeric digits\n",
    "    tracks.columns.values[i] = orig + ' ' + str(tracks.iloc[0,i]) # Append specific name (first column after names) to orig \n",
    "\n",
    "# Now remove first 2 columns after column titles\n",
    "tracks = tracks.drop([0, 1])\n",
    "\n",
    "# Rename first unnamed column to id\n",
    "tracks.columns.values[0] = 'id'\n",
    "\n",
    "tracks.head()"
   ]
  },
  {
   "cell_type": "markdown",
   "metadata": {},
   "source": [
    "List all of the row names after cleaning"
   ]
  },
  {
   "cell_type": "markdown",
   "metadata": {},
   "source": [
    "Remove columns that we're not likely to use"
   ]
  },
  {
   "cell_type": "code",
   "execution_count": null,
   "metadata": {},
   "outputs": [],
   "source": [
    "tracks = tracks[['id', 'track title', 'artist name', 'album title', 'track genre_top']]"
   ]
  },
  {
   "cell_type": "code",
   "execution_count": null,
   "metadata": {},
   "outputs": [],
   "source": [
    "tracks"
   ]
  },
  {
   "cell_type": "markdown",
   "metadata": {},
   "source": [
    "### Librosa Data\n",
    "Understanding what the columns mean"
   ]
  },
  {
   "cell_type": "code",
   "execution_count": null,
   "metadata": {},
   "outputs": [],
   "source": [
    "features"
   ]
  }
 ],
 "metadata": {
  "kernelspec": {
   "display_name": "Python 3 (ipykernel)",
   "language": "python",
   "name": "python3"
  },
  "language_info": {
   "codemirror_mode": {
    "name": "ipython",
    "version": 3
   },
   "file_extension": ".py",
   "mimetype": "text/x-python",
   "name": "python",
   "nbconvert_exporter": "python",
   "pygments_lexer": "ipython3",
   "version": "3.9.5"
  }
 },
 "nbformat": 4,
 "nbformat_minor": 4
}
