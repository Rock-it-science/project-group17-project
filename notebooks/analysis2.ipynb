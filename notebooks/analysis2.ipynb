{
 "cells": [
  {
   "cell_type": "markdown",
   "metadata": {},
   "source": [
    "# Jin-Seob Kim"
   ]
  },
  {
   "cell_type": "markdown",
   "metadata": {},
   "source": [
    "## Research question/interests\r\n",
    "I am interested inlooking how the number of tracks released for different genres varied between different years.."
   ]
  },
  {
   "cell_type": "code",
   "execution_count": 31,
   "metadata": {},
   "outputs": [],
   "source": [
    "#Import Libraries\n",
    "import pandas as pd\n",
    "import numpy as np\n",
    "import seaborn as sns\n",
    "import matplotlib.pylab as plt"
   ]
  },
  {
   "cell_type": "markdown",
   "metadata": {},
   "source": [
    "# Step One: Conducting an Exploratory Data Analysis\n",
    "\n",
    "## Raw Data"
   ]
  },
  {
   "cell_type": "markdown",
   "metadata": {},
   "source": [
    "Below are the top five rows of the dataset (raw) I am going to use as a preview."
   ]
  },
  {
   "cell_type": "code",
   "execution_count": 32,
   "metadata": {},
   "outputs": [
    {
     "data": {
      "text/html": [
       "<div>\n",
       "<style scoped>\n",
       "    .dataframe tbody tr th:only-of-type {\n",
       "        vertical-align: middle;\n",
       "    }\n",
       "\n",
       "    .dataframe tbody tr th {\n",
       "        vertical-align: top;\n",
       "    }\n",
       "\n",
       "    .dataframe thead th {\n",
       "        text-align: right;\n",
       "    }\n",
       "</style>\n",
       "<table border=\"1\" class=\"dataframe\">\n",
       "  <thead>\n",
       "    <tr style=\"text-align: right;\">\n",
       "      <th></th>\n",
       "      <th>Unnamed: 0</th>\n",
       "      <th>album</th>\n",
       "      <th>album.1</th>\n",
       "      <th>album.2</th>\n",
       "      <th>album.3</th>\n",
       "      <th>album.4</th>\n",
       "      <th>album.5</th>\n",
       "      <th>album.6</th>\n",
       "      <th>album.7</th>\n",
       "      <th>album.8</th>\n",
       "      <th>...</th>\n",
       "      <th>track.10</th>\n",
       "      <th>track.11</th>\n",
       "      <th>track.12</th>\n",
       "      <th>track.13</th>\n",
       "      <th>track.14</th>\n",
       "      <th>track.15</th>\n",
       "      <th>track.16</th>\n",
       "      <th>track.17</th>\n",
       "      <th>track.18</th>\n",
       "      <th>track.19</th>\n",
       "    </tr>\n",
       "  </thead>\n",
       "  <tbody>\n",
       "    <tr>\n",
       "      <th>0</th>\n",
       "      <td>NaN</td>\n",
       "      <td>comments</td>\n",
       "      <td>date_created</td>\n",
       "      <td>date_released</td>\n",
       "      <td>engineer</td>\n",
       "      <td>favorites</td>\n",
       "      <td>id</td>\n",
       "      <td>information</td>\n",
       "      <td>listens</td>\n",
       "      <td>producer</td>\n",
       "      <td>...</td>\n",
       "      <td>information</td>\n",
       "      <td>interest</td>\n",
       "      <td>language_code</td>\n",
       "      <td>license</td>\n",
       "      <td>listens</td>\n",
       "      <td>lyricist</td>\n",
       "      <td>number</td>\n",
       "      <td>publisher</td>\n",
       "      <td>tags</td>\n",
       "      <td>title</td>\n",
       "    </tr>\n",
       "    <tr>\n",
       "      <th>1</th>\n",
       "      <td>track_id</td>\n",
       "      <td>NaN</td>\n",
       "      <td>NaN</td>\n",
       "      <td>NaN</td>\n",
       "      <td>NaN</td>\n",
       "      <td>NaN</td>\n",
       "      <td>NaN</td>\n",
       "      <td>NaN</td>\n",
       "      <td>NaN</td>\n",
       "      <td>NaN</td>\n",
       "      <td>...</td>\n",
       "      <td>NaN</td>\n",
       "      <td>NaN</td>\n",
       "      <td>NaN</td>\n",
       "      <td>NaN</td>\n",
       "      <td>NaN</td>\n",
       "      <td>NaN</td>\n",
       "      <td>NaN</td>\n",
       "      <td>NaN</td>\n",
       "      <td>NaN</td>\n",
       "      <td>NaN</td>\n",
       "    </tr>\n",
       "    <tr>\n",
       "      <th>2</th>\n",
       "      <td>2</td>\n",
       "      <td>0</td>\n",
       "      <td>2008-11-26 01:44:45</td>\n",
       "      <td>2009-01-05 00:00:00</td>\n",
       "      <td>NaN</td>\n",
       "      <td>4</td>\n",
       "      <td>1</td>\n",
       "      <td>&lt;p&gt;&lt;/p&gt;</td>\n",
       "      <td>6073</td>\n",
       "      <td>NaN</td>\n",
       "      <td>...</td>\n",
       "      <td>NaN</td>\n",
       "      <td>4656</td>\n",
       "      <td>en</td>\n",
       "      <td>Attribution-NonCommercial-ShareAlike 3.0 Inter...</td>\n",
       "      <td>1293</td>\n",
       "      <td>NaN</td>\n",
       "      <td>3</td>\n",
       "      <td>NaN</td>\n",
       "      <td>[]</td>\n",
       "      <td>Food</td>\n",
       "    </tr>\n",
       "    <tr>\n",
       "      <th>3</th>\n",
       "      <td>3</td>\n",
       "      <td>0</td>\n",
       "      <td>2008-11-26 01:44:45</td>\n",
       "      <td>2009-01-05 00:00:00</td>\n",
       "      <td>NaN</td>\n",
       "      <td>4</td>\n",
       "      <td>1</td>\n",
       "      <td>&lt;p&gt;&lt;/p&gt;</td>\n",
       "      <td>6073</td>\n",
       "      <td>NaN</td>\n",
       "      <td>...</td>\n",
       "      <td>NaN</td>\n",
       "      <td>1470</td>\n",
       "      <td>en</td>\n",
       "      <td>Attribution-NonCommercial-ShareAlike 3.0 Inter...</td>\n",
       "      <td>514</td>\n",
       "      <td>NaN</td>\n",
       "      <td>4</td>\n",
       "      <td>NaN</td>\n",
       "      <td>[]</td>\n",
       "      <td>Electric Ave</td>\n",
       "    </tr>\n",
       "    <tr>\n",
       "      <th>4</th>\n",
       "      <td>5</td>\n",
       "      <td>0</td>\n",
       "      <td>2008-11-26 01:44:45</td>\n",
       "      <td>2009-01-05 00:00:00</td>\n",
       "      <td>NaN</td>\n",
       "      <td>4</td>\n",
       "      <td>1</td>\n",
       "      <td>&lt;p&gt;&lt;/p&gt;</td>\n",
       "      <td>6073</td>\n",
       "      <td>NaN</td>\n",
       "      <td>...</td>\n",
       "      <td>NaN</td>\n",
       "      <td>1933</td>\n",
       "      <td>en</td>\n",
       "      <td>Attribution-NonCommercial-ShareAlike 3.0 Inter...</td>\n",
       "      <td>1151</td>\n",
       "      <td>NaN</td>\n",
       "      <td>6</td>\n",
       "      <td>NaN</td>\n",
       "      <td>[]</td>\n",
       "      <td>This World</td>\n",
       "    </tr>\n",
       "  </tbody>\n",
       "</table>\n",
       "<p>5 rows × 53 columns</p>\n",
       "</div>"
      ],
      "text/plain": [
       "  Unnamed: 0     album              album.1              album.2   album.3  \\\n",
       "0        NaN  comments         date_created        date_released  engineer   \n",
       "1   track_id       NaN                  NaN                  NaN       NaN   \n",
       "2          2         0  2008-11-26 01:44:45  2009-01-05 00:00:00       NaN   \n",
       "3          3         0  2008-11-26 01:44:45  2009-01-05 00:00:00       NaN   \n",
       "4          5         0  2008-11-26 01:44:45  2009-01-05 00:00:00       NaN   \n",
       "\n",
       "     album.4 album.5      album.6  album.7   album.8  ...     track.10  \\\n",
       "0  favorites      id  information  listens  producer  ...  information   \n",
       "1        NaN     NaN          NaN      NaN       NaN  ...          NaN   \n",
       "2          4       1      <p></p>     6073       NaN  ...          NaN   \n",
       "3          4       1      <p></p>     6073       NaN  ...          NaN   \n",
       "4          4       1      <p></p>     6073       NaN  ...          NaN   \n",
       "\n",
       "   track.11       track.12                                           track.13  \\\n",
       "0  interest  language_code                                            license   \n",
       "1       NaN            NaN                                                NaN   \n",
       "2      4656             en  Attribution-NonCommercial-ShareAlike 3.0 Inter...   \n",
       "3      1470             en  Attribution-NonCommercial-ShareAlike 3.0 Inter...   \n",
       "4      1933             en  Attribution-NonCommercial-ShareAlike 3.0 Inter...   \n",
       "\n",
       "  track.14  track.15 track.16   track.17 track.18      track.19  \n",
       "0  listens  lyricist   number  publisher     tags         title  \n",
       "1      NaN       NaN      NaN        NaN      NaN           NaN  \n",
       "2     1293       NaN        3        NaN       []          Food  \n",
       "3      514       NaN        4        NaN       []  Electric Ave  \n",
       "4     1151       NaN        6        NaN       []    This World  \n",
       "\n",
       "[5 rows x 53 columns]"
      ]
     },
     "execution_count": 32,
     "metadata": {},
     "output_type": "execute_result"
    }
   ],
   "source": [
    "tracks_raw = pd.read_csv(\"../data/raw/tracks.csv\", low_memory=False)\n",
    "tracks_raw.head()"
   ]
  },
  {
   "cell_type": "markdown",
   "metadata": {},
   "source": [
    "## Basic Observation of Raw Data"
   ]
  },
  {
   "cell_type": "code",
   "execution_count": 33,
   "metadata": {},
   "outputs": [
    {
     "name": "stdout",
     "output_type": "stream",
     "text": [
      "The dataset has 106576 rows and 53 columns.\n"
     ]
    }
   ],
   "source": [
    "tracks_shape = tracks_raw.shape\n",
    "print(f\"The dataset has {tracks_shape[0]} rows and {tracks_shape[1]} columns.\")"
   ]
  },
  {
   "cell_type": "markdown",
   "metadata": {},
   "source": [
    "As you can see with the data displayed above, You can think of this dataframe as being split into three levels: categories (columns), sub-categories (row 0), and the values of the sub-categories (from row 1 onwards)."
   ]
  },
  {
   "cell_type": "code",
   "execution_count": 34,
   "metadata": {},
   "outputs": [
    {
     "data": {
      "text/plain": [
       "Unnamed: 0                  NaN\n",
       "album                  comments\n",
       "album.1            date_created\n",
       "album.2           date_released\n",
       "album.3                engineer\n",
       "album.4               favorites\n",
       "album.5                      id\n",
       "album.6             information\n",
       "album.7                 listens\n",
       "album.8                producer\n",
       "album.9                    tags\n",
       "album.10                  title\n",
       "album.11                 tracks\n",
       "album.12                   type\n",
       "artist        active_year_begin\n",
       "artist.1        active_year_end\n",
       "artist.2      associated_labels\n",
       "artist.3                    bio\n",
       "artist.4               comments\n",
       "artist.5           date_created\n",
       "artist.6              favorites\n",
       "artist.7                     id\n",
       "artist.8               latitude\n",
       "artist.9               location\n",
       "artist.10             longitude\n",
       "artist.11               members\n",
       "artist.12                  name\n",
       "artist.13      related_projects\n",
       "artist.14                  tags\n",
       "artist.15               website\n",
       "artist.16        wikipedia_page\n",
       "set                       split\n",
       "set.1                    subset\n",
       "track                  bit_rate\n",
       "track.1                comments\n",
       "track.2                composer\n",
       "track.3            date_created\n",
       "track.4           date_recorded\n",
       "track.5                duration\n",
       "track.6               favorites\n",
       "track.7               genre_top\n",
       "track.8                  genres\n",
       "track.9              genres_all\n",
       "track.10            information\n",
       "track.11               interest\n",
       "track.12          language_code\n",
       "track.13                license\n",
       "track.14                listens\n",
       "track.15               lyricist\n",
       "track.16                 number\n",
       "track.17              publisher\n",
       "track.18                   tags\n",
       "track.19                  title\n",
       "Name: 0, dtype: object"
      ]
     },
     "execution_count": 34,
     "metadata": {},
     "output_type": "execute_result"
    }
   ],
   "source": [
    "#The df.iloc[row_number] command prints each column and it's corresponding value according to the number of what row you input between the brackets. \n",
    "tracks_raw.iloc[0]"
   ]
  },
  {
   "cell_type": "markdown",
   "metadata": {},
   "source": [
    "Displayed above are the first two 'levels' I mentioned before. \n",
    "   - First level: various columns that are grouped to specific categories of the same names\n",
    "       * The groups being album, artist, set, and track\n",
    "\n",
    "\n",
    "   - Second level: categories belonging to each specific column group "
   ]
  },
  {
   "cell_type": "code",
   "execution_count": null,
   "metadata": {},
   "outputs": [],
   "source": []
  }
 ],
 "metadata": {
  "kernelspec": {
   "display_name": "Python 3 (ipykernel)",
   "language": "python",
   "name": "python3"
  },
  "language_info": {
   "codemirror_mode": {
    "name": "ipython",
    "version": 3
   },
   "file_extension": ".py",
   "mimetype": "text/x-python",
   "name": "python",
   "nbconvert_exporter": "python",
   "pygments_lexer": "ipython3",
   "version": "3.9.5"
  }
 },
 "nbformat": 4,
 "nbformat_minor": 4
}
