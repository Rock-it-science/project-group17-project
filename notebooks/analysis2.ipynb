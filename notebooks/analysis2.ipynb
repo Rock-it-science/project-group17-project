{
 "cells": [
  {
   "cell_type": "markdown",
   "metadata": {},
   "source": [
    "# Jin-Seob Kim"
   ]
  },
  {
   "cell_type": "markdown",
   "metadata": {},
   "source": [
    "## Research question/interests\n",
    "I am interested in observing the trend of the number of rock genre tracks released annually."
   ]
  },
  {
   "cell_type": "code",
   "execution_count": 1,
   "metadata": {},
   "outputs": [],
   "source": [
    "#Import Libraries\n",
    "import pandas as pd\n",
    "import numpy as np\n",
    "import matplotlib.pylab as plt\n",
    "import matplotlib.pyplot as plt2\n",
    "import seaborn as sns"
   ]
  },
  {
   "cell_type": "markdown",
   "metadata": {
    "tags": []
   },
   "source": [
    "# Step One: Conducting an Exploratory Data Analysis\n",
    "\n",
    "## Raw Data"
   ]
  },
  {
   "cell_type": "markdown",
   "metadata": {},
   "source": [
    "Below are the top five rows of the raw dataset I am going to use as a preview. The dataset includes data from 2008 until 2017."
   ]
  },
  {
   "cell_type": "code",
   "execution_count": 2,
   "metadata": {},
   "outputs": [
    {
     "data": {
      "text/html": [
       "<div>\n",
       "<style scoped>\n",
       "    .dataframe tbody tr th:only-of-type {\n",
       "        vertical-align: middle;\n",
       "    }\n",
       "\n",
       "    .dataframe tbody tr th {\n",
       "        vertical-align: top;\n",
       "    }\n",
       "\n",
       "    .dataframe thead th {\n",
       "        text-align: right;\n",
       "    }\n",
       "</style>\n",
       "<table border=\"1\" class=\"dataframe\">\n",
       "  <thead>\n",
       "    <tr style=\"text-align: right;\">\n",
       "      <th></th>\n",
       "      <th>Unnamed: 0</th>\n",
       "      <th>album</th>\n",
       "      <th>album.1</th>\n",
       "      <th>album.2</th>\n",
       "      <th>album.3</th>\n",
       "      <th>album.4</th>\n",
       "      <th>album.5</th>\n",
       "      <th>album.6</th>\n",
       "      <th>album.7</th>\n",
       "      <th>album.8</th>\n",
       "      <th>...</th>\n",
       "      <th>track.10</th>\n",
       "      <th>track.11</th>\n",
       "      <th>track.12</th>\n",
       "      <th>track.13</th>\n",
       "      <th>track.14</th>\n",
       "      <th>track.15</th>\n",
       "      <th>track.16</th>\n",
       "      <th>track.17</th>\n",
       "      <th>track.18</th>\n",
       "      <th>track.19</th>\n",
       "    </tr>\n",
       "  </thead>\n",
       "  <tbody>\n",
       "    <tr>\n",
       "      <th>0</th>\n",
       "      <td>NaN</td>\n",
       "      <td>comments</td>\n",
       "      <td>date_created</td>\n",
       "      <td>date_released</td>\n",
       "      <td>engineer</td>\n",
       "      <td>favorites</td>\n",
       "      <td>id</td>\n",
       "      <td>information</td>\n",
       "      <td>listens</td>\n",
       "      <td>producer</td>\n",
       "      <td>...</td>\n",
       "      <td>information</td>\n",
       "      <td>interest</td>\n",
       "      <td>language_code</td>\n",
       "      <td>license</td>\n",
       "      <td>listens</td>\n",
       "      <td>lyricist</td>\n",
       "      <td>number</td>\n",
       "      <td>publisher</td>\n",
       "      <td>tags</td>\n",
       "      <td>title</td>\n",
       "    </tr>\n",
       "    <tr>\n",
       "      <th>1</th>\n",
       "      <td>track_id</td>\n",
       "      <td>NaN</td>\n",
       "      <td>NaN</td>\n",
       "      <td>NaN</td>\n",
       "      <td>NaN</td>\n",
       "      <td>NaN</td>\n",
       "      <td>NaN</td>\n",
       "      <td>NaN</td>\n",
       "      <td>NaN</td>\n",
       "      <td>NaN</td>\n",
       "      <td>...</td>\n",
       "      <td>NaN</td>\n",
       "      <td>NaN</td>\n",
       "      <td>NaN</td>\n",
       "      <td>NaN</td>\n",
       "      <td>NaN</td>\n",
       "      <td>NaN</td>\n",
       "      <td>NaN</td>\n",
       "      <td>NaN</td>\n",
       "      <td>NaN</td>\n",
       "      <td>NaN</td>\n",
       "    </tr>\n",
       "    <tr>\n",
       "      <th>2</th>\n",
       "      <td>2</td>\n",
       "      <td>0</td>\n",
       "      <td>2008-11-26 01:44:45</td>\n",
       "      <td>2009-01-05 00:00:00</td>\n",
       "      <td>NaN</td>\n",
       "      <td>4</td>\n",
       "      <td>1</td>\n",
       "      <td>&lt;p&gt;&lt;/p&gt;</td>\n",
       "      <td>6073</td>\n",
       "      <td>NaN</td>\n",
       "      <td>...</td>\n",
       "      <td>NaN</td>\n",
       "      <td>4656</td>\n",
       "      <td>en</td>\n",
       "      <td>Attribution-NonCommercial-ShareAlike 3.0 Inter...</td>\n",
       "      <td>1293</td>\n",
       "      <td>NaN</td>\n",
       "      <td>3</td>\n",
       "      <td>NaN</td>\n",
       "      <td>[]</td>\n",
       "      <td>Food</td>\n",
       "    </tr>\n",
       "    <tr>\n",
       "      <th>3</th>\n",
       "      <td>3</td>\n",
       "      <td>0</td>\n",
       "      <td>2008-11-26 01:44:45</td>\n",
       "      <td>2009-01-05 00:00:00</td>\n",
       "      <td>NaN</td>\n",
       "      <td>4</td>\n",
       "      <td>1</td>\n",
       "      <td>&lt;p&gt;&lt;/p&gt;</td>\n",
       "      <td>6073</td>\n",
       "      <td>NaN</td>\n",
       "      <td>...</td>\n",
       "      <td>NaN</td>\n",
       "      <td>1470</td>\n",
       "      <td>en</td>\n",
       "      <td>Attribution-NonCommercial-ShareAlike 3.0 Inter...</td>\n",
       "      <td>514</td>\n",
       "      <td>NaN</td>\n",
       "      <td>4</td>\n",
       "      <td>NaN</td>\n",
       "      <td>[]</td>\n",
       "      <td>Electric Ave</td>\n",
       "    </tr>\n",
       "    <tr>\n",
       "      <th>4</th>\n",
       "      <td>5</td>\n",
       "      <td>0</td>\n",
       "      <td>2008-11-26 01:44:45</td>\n",
       "      <td>2009-01-05 00:00:00</td>\n",
       "      <td>NaN</td>\n",
       "      <td>4</td>\n",
       "      <td>1</td>\n",
       "      <td>&lt;p&gt;&lt;/p&gt;</td>\n",
       "      <td>6073</td>\n",
       "      <td>NaN</td>\n",
       "      <td>...</td>\n",
       "      <td>NaN</td>\n",
       "      <td>1933</td>\n",
       "      <td>en</td>\n",
       "      <td>Attribution-NonCommercial-ShareAlike 3.0 Inter...</td>\n",
       "      <td>1151</td>\n",
       "      <td>NaN</td>\n",
       "      <td>6</td>\n",
       "      <td>NaN</td>\n",
       "      <td>[]</td>\n",
       "      <td>This World</td>\n",
       "    </tr>\n",
       "  </tbody>\n",
       "</table>\n",
       "<p>5 rows × 53 columns</p>\n",
       "</div>"
      ],
      "text/plain": [
       "  Unnamed: 0     album              album.1              album.2   album.3  \\\n",
       "0        NaN  comments         date_created        date_released  engineer   \n",
       "1   track_id       NaN                  NaN                  NaN       NaN   \n",
       "2          2         0  2008-11-26 01:44:45  2009-01-05 00:00:00       NaN   \n",
       "3          3         0  2008-11-26 01:44:45  2009-01-05 00:00:00       NaN   \n",
       "4          5         0  2008-11-26 01:44:45  2009-01-05 00:00:00       NaN   \n",
       "\n",
       "     album.4 album.5      album.6  album.7   album.8  ...     track.10  \\\n",
       "0  favorites      id  information  listens  producer  ...  information   \n",
       "1        NaN     NaN          NaN      NaN       NaN  ...          NaN   \n",
       "2          4       1      <p></p>     6073       NaN  ...          NaN   \n",
       "3          4       1      <p></p>     6073       NaN  ...          NaN   \n",
       "4          4       1      <p></p>     6073       NaN  ...          NaN   \n",
       "\n",
       "   track.11       track.12                                           track.13  \\\n",
       "0  interest  language_code                                            license   \n",
       "1       NaN            NaN                                                NaN   \n",
       "2      4656             en  Attribution-NonCommercial-ShareAlike 3.0 Inter...   \n",
       "3      1470             en  Attribution-NonCommercial-ShareAlike 3.0 Inter...   \n",
       "4      1933             en  Attribution-NonCommercial-ShareAlike 3.0 Inter...   \n",
       "\n",
       "  track.14  track.15 track.16   track.17 track.18      track.19  \n",
       "0  listens  lyricist   number  publisher     tags         title  \n",
       "1      NaN       NaN      NaN        NaN      NaN           NaN  \n",
       "2     1293       NaN        3        NaN       []          Food  \n",
       "3      514       NaN        4        NaN       []  Electric Ave  \n",
       "4     1151       NaN        6        NaN       []    This World  \n",
       "\n",
       "[5 rows x 53 columns]"
      ]
     },
     "execution_count": 2,
     "metadata": {},
     "output_type": "execute_result"
    }
   ],
   "source": [
    "tracks_raw = pd.read_csv(\"../data/raw/tracks.csv\", low_memory=False)\n",
    "tracks_raw.head()"
   ]
  },
  {
   "cell_type": "markdown",
   "metadata": {},
   "source": [
    "## Basic Observation of Raw Data"
   ]
  },
  {
   "cell_type": "code",
   "execution_count": 3,
   "metadata": {},
   "outputs": [
    {
     "name": "stdout",
     "output_type": "stream",
     "text": [
      "The dataset has 106576 rows and 53 columns.\n"
     ]
    }
   ],
   "source": [
    "tracks_shape = tracks_raw.shape\n",
    "print(f\"The dataset has {tracks_shape[0]} rows and {tracks_shape[1]} columns.\")"
   ]
  },
  {
   "cell_type": "markdown",
   "metadata": {},
   "source": [
    "As you can see with the data displayed above, You can think of this dataframe as being split into three levels: categories (columns), sub-categories (row 0), and the values of the sub-categories (from row 1 onwards)."
   ]
  },
  {
   "cell_type": "code",
   "execution_count": 4,
   "metadata": {},
   "outputs": [
    {
     "data": {
      "text/plain": [
       "Unnamed: 0                  NaN\n",
       "album                  comments\n",
       "album.1            date_created\n",
       "album.2           date_released\n",
       "album.3                engineer\n",
       "album.4               favorites\n",
       "album.5                      id\n",
       "album.6             information\n",
       "album.7                 listens\n",
       "album.8                producer\n",
       "album.9                    tags\n",
       "album.10                  title\n",
       "album.11                 tracks\n",
       "album.12                   type\n",
       "artist        active_year_begin\n",
       "artist.1        active_year_end\n",
       "artist.2      associated_labels\n",
       "artist.3                    bio\n",
       "artist.4               comments\n",
       "artist.5           date_created\n",
       "artist.6              favorites\n",
       "artist.7                     id\n",
       "artist.8               latitude\n",
       "artist.9               location\n",
       "artist.10             longitude\n",
       "artist.11               members\n",
       "artist.12                  name\n",
       "artist.13      related_projects\n",
       "artist.14                  tags\n",
       "artist.15               website\n",
       "artist.16        wikipedia_page\n",
       "set                       split\n",
       "set.1                    subset\n",
       "track                  bit_rate\n",
       "track.1                comments\n",
       "track.2                composer\n",
       "track.3            date_created\n",
       "track.4           date_recorded\n",
       "track.5                duration\n",
       "track.6               favorites\n",
       "track.7               genre_top\n",
       "track.8                  genres\n",
       "track.9              genres_all\n",
       "track.10            information\n",
       "track.11               interest\n",
       "track.12          language_code\n",
       "track.13                license\n",
       "track.14                listens\n",
       "track.15               lyricist\n",
       "track.16                 number\n",
       "track.17              publisher\n",
       "track.18                   tags\n",
       "track.19                  title\n",
       "Name: 0, dtype: object"
      ]
     },
     "execution_count": 4,
     "metadata": {},
     "output_type": "execute_result"
    }
   ],
   "source": [
    "#The dataframe.iloc[row_number] command prints each column and it's corresponding value according to the number of what row you input between the brackets. \n",
    "tracks_raw.iloc[0]"
   ]
  },
  {
   "cell_type": "markdown",
   "metadata": {},
   "source": [
    "Displayed above are the first two 'levels' I mentioned before. \n",
    "   - First level: various columns that are grouped to specific categories of the same names\n",
    "       * The groups being album, artist, set, and track\n",
    "\n",
    "\n",
    "   - Second level: categories belonging to each specific column group "
   ]
  },
  {
   "cell_type": "markdown",
   "metadata": {},
   "source": [
    "### Data Visualization\n",
    "\n",
    "In order to present some of the data in a neat and understandable fashion, I will first choose the Track ID and the amount of favorites for each track columns (sample of the data I may use for my research question)"
   ]
  },
  {
   "cell_type": "code",
   "execution_count": 5,
   "metadata": {},
   "outputs": [
    {
     "name": "stdout",
     "output_type": "stream",
     "text": [
      "       Track ID favorites\n",
      "2             2         2\n",
      "3             3         1\n",
      "4             5         6\n",
      "5            10       178\n",
      "6            20         0\n",
      "...         ...       ...\n",
      "106571   155316         1\n",
      "106572   155317         1\n",
      "106573   155318         2\n",
      "106574   155319         0\n",
      "106575   155320         1\n",
      "\n",
      "[106574 rows x 2 columns]\n",
      "    Track ID favorites\n",
      "2          2         2\n",
      "3          3         1\n",
      "4          5         6\n",
      "5         10       178\n",
      "6         20         0\n",
      "..       ...       ...\n",
      "197      400         1\n",
      "198      401         1\n",
      "199      402         1\n",
      "200      403         1\n",
      "201      404         2\n",
      "\n",
      "[200 rows x 2 columns]\n"
     ]
    }
   ],
   "source": [
    "tracks_favorites = (   \n",
    "    tracks_raw[['Unnamed: 0','track.6']]\n",
    "    .drop([0,1])\n",
    "    .rename(columns = {'Unnamed: 0': \"Track ID\", 'track.6': \"favorites\"})\n",
    ")\n",
    "print(tracks_favorites)\n",
    "\n",
    "tracks_favorites = tracks_favorites.iloc[0:200]\n",
    "print(tracks_favorites)"
   ]
  },
  {
   "cell_type": "markdown",
   "metadata": {},
   "source": [
    "Above, I have taken the 'Unnamed: 0' and 'tracks.6' columns, renamed them to what they represent, and dropped the first two rows that are not consistant with the data. I will to take the first 200 rows and plot it."
   ]
  },
  {
   "cell_type": "code",
   "execution_count": 6,
   "metadata": {},
   "outputs": [
    {
     "data": {
      "image/png": "[encoded data removed]",
      "text/plain": [
       "<Figure size 1080x288 with 1 Axes>"
      ]
     },
     "metadata": {
      "needs_background": "light"
     },
     "output_type": "display_data"
    }
   ],
   "source": [
    "#First I will have to change the favorites values from strings to integers, so that they will be ordered correctly in an ascending order on the y axis.\n",
    "tracks_favorites['favorites'] = tracks_favorites['favorites'].astype(int)\n",
    "\n",
    "#https://www.geeksforgeeks.org/bar-plot-in-matplotlib/\n",
    "#now to plot the graph\n",
    "fig= plt.figure(figsize=(15,4))\n",
    "plt2.bar(tracks_favorites['Track ID'], tracks_favorites['favorites'])\n",
    "plt2.title('Number of favorites per Track')\n",
    "plt2.xlabel('Track ID')\n",
    "plt2.ylabel('Number of favorites')\n",
    "plt.show()"
   ]
  },
  {
   "cell_type": "markdown",
   "metadata": {},
   "source": [
    "We are not able to differentiate between the Track IDs, however, we are can somewhat see how the general shape, with the full set of values, may look like. It seems that there are a couple of spikes here and there, along with what appears to be a single outlier. From this very superficial first look at our data visualization, I can predict that most of the data will have below 50 favorites, and very few outliers will have favorites above it. From the data table presented before the plot, I can pinpoint Track number 10 to be the outlier with 178 favorites. \n",
    "By seeing this graph, I can roughly estimate how I would like to clean up by data.\n",
    "\n",
    "Next, I would like to look at the number of tracks released for each genre by counting how many times the genre corresponding to the row pops up in total."
   ]
  },
  {
   "cell_type": "code",
   "execution_count": 7,
   "metadata": {},
   "outputs": [
    {
     "name": "stdout",
     "output_type": "stream",
     "text": [
      "Rock                   14182\n",
      "Experimental           10608\n",
      "Electronic              9372\n",
      "Hip-Hop                 3552\n",
      "Folk                    2803\n",
      "Pop                     2332\n",
      "Instrumental            2079\n",
      "International           1389\n",
      "Classical               1230\n",
      "Jazz                     571\n",
      "Old-Time / Historic      554\n",
      "Spoken                   423\n",
      "Country                  194\n",
      "Soul-RnB                 175\n",
      "Blues                    110\n",
      "Easy Listening            24\n",
      "Name: genre, dtype: int64\n"
     ]
    }
   ],
   "source": [
    "tracks_genre = (   \n",
    "    tracks_raw\n",
    "    .rename(columns = {'track.7': \"genre\"})\n",
    "    .drop([0,1])\n",
    ")\n",
    "tracks_genre = tracks_genre['genre']\n",
    "\n",
    "#https://datascienceparichay.com/article/pandas-count-of-unique-values-in-each-column/#:~:text=The%20nunique%20%28%29%20function%20To%20count%20the%20unique,nunique%20%28%29%20function.%20The%20following%20is%20the%20syntax%3A\n",
    "#Counting how many times genres is mentioned in total in the genre column\n",
    "print(tracks_genre.value_counts())"
   ]
  },
  {
   "cell_type": "code",
   "execution_count": 8,
   "metadata": {},
   "outputs": [
    {
     "data": {
      "text/plain": [
       "<AxesSubplot:>"
      ]
     },
     "execution_count": 8,
     "metadata": {},
     "output_type": "execute_result"
    },
    {
     "data": {
      "image/png": "[encoded data removed]",
      "text/plain": [
       "<Figure size 432x288 with 1 Axes>"
      ]
     },
     "metadata": {
      "needs_background": "light"
     },
     "output_type": "display_data"
    }
   ],
   "source": [
    "#https://mode.com/python-tutorial/counting-and-plotting-in-python/\n",
    "tracks_genre.value_counts()[:].plot(kind='barh')"
   ]
  },
  {
   "cell_type": "markdown",
   "metadata": {},
   "source": [
    "We can observe from the graph above that Rock seems to have had the most releases in total throughout the years, much contrary to my expectations of pop having the most.\n",
    "\n",
    "Finally, I would like to see the total"
   ]
  },
  {
   "cell_type": "code",
   "execution_count": 9,
   "metadata": {},
   "outputs": [
    {
     "name": "stdout",
     "output_type": "stream",
     "text": [
      "2016    14484\n",
      "2013    13876\n",
      "2015    13096\n",
      "2010    13057\n",
      "2012    12366\n",
      "2011    11459\n",
      "2009    11352\n",
      "2014     9770\n",
      "2017     4251\n",
      "2008     2863\n",
      "Name: year of release, dtype: int64\n"
     ]
    }
   ],
   "source": [
    "tracks_year = (   \n",
    "    tracks_raw\n",
    "    .rename(columns = {'track.3': \"year of release\"})\n",
    "    .drop([0,1])\n",
    ")\n",
    "tracks_year = tracks_year['year of release']\n",
    "\n",
    "#https://stackoverflow.com/questions/42349572/remove-first-x-number-of-characters-from-each-row-in-a-column-of-a-python-datafr\n",
    "#Getting rid of everything except the year it was created\n",
    "tracks_year = tracks_year.str[:4]\n",
    "tracks_year = tracks_year.astype(int)\n",
    "print(tracks_year.value_counts())"
   ]
  },
  {
   "cell_type": "code",
   "execution_count": 10,
   "metadata": {},
   "outputs": [
    {
     "data": {
      "image/png": "[encoded data removed]",
      "text/plain": [
       "<Figure size 432x288 with 1 Axes>"
      ]
     },
     "metadata": {
      "needs_background": "light"
     },
     "output_type": "display_data"
    }
   ],
   "source": [
    "tracks_year.value_counts()[:].plot(kind='bar').grid(True)\n"
   ]
  },
  {
   "cell_type": "markdown",
   "metadata": {},
   "source": [
    "2017 having the least amount of releases is not surprising. The last track released in 2017 for this dataset was released on the 30th of March. Thus, we only have one fourth of the data available for this year. The same can be said for 2008, as the first track for that year was released on the 26th of November. In fact, I find it surprising that 2008 seems to have about 2500 tracks released in basically a month, meaning that if we had the data available for all 12 months, it may have perhaps have had much more track releases than we could anticipate, compared to the other years."
   ]
  },
  {
   "cell_type": "markdown",
   "metadata": {
    "tags": []
   },
   "source": [
    "# Step Two: Setting up an \"Analysis Pipeline\"\n",
    "I will select columns I want in order to answer my research question (or columns I may find useful), process and wrangle the remaining data and then create a new csv file with it. This process will look similar to the EDA.\n",
    "\n",
    "First, I will select the columns I need to answer my research question and drop any row that has NaN values so that each column is equally comparable in every aspect."
   ]
  },
  {
   "cell_type": "code",
   "execution_count": 11,
   "metadata": {},
   "outputs": [
    {
     "data": {
      "text/plain": [
       "Unnamed: 0                  NaN\n",
       "album                  comments\n",
       "album.1            date_created\n",
       "album.2           date_released\n",
       "album.3                engineer\n",
       "album.4               favorites\n",
       "album.5                      id\n",
       "album.6             information\n",
       "album.7                 listens\n",
       "album.8                producer\n",
       "album.9                    tags\n",
       "album.10                  title\n",
       "album.11                 tracks\n",
       "album.12                   type\n",
       "artist        active_year_begin\n",
       "artist.1        active_year_end\n",
       "artist.2      associated_labels\n",
       "artist.3                    bio\n",
       "artist.4               comments\n",
       "artist.5           date_created\n",
       "artist.6              favorites\n",
       "artist.7                     id\n",
       "artist.8               latitude\n",
       "artist.9               location\n",
       "artist.10             longitude\n",
       "artist.11               members\n",
       "artist.12                  name\n",
       "artist.13      related_projects\n",
       "artist.14                  tags\n",
       "artist.15               website\n",
       "artist.16        wikipedia_page\n",
       "set                       split\n",
       "set.1                    subset\n",
       "track                  bit_rate\n",
       "track.1                comments\n",
       "track.2                composer\n",
       "track.3            date_created\n",
       "track.4           date_recorded\n",
       "track.5                duration\n",
       "track.6               favorites\n",
       "track.7               genre_top\n",
       "track.8                  genres\n",
       "track.9              genres_all\n",
       "track.10            information\n",
       "track.11               interest\n",
       "track.12          language_code\n",
       "track.13                license\n",
       "track.14                listens\n",
       "track.15               lyricist\n",
       "track.16                 number\n",
       "track.17              publisher\n",
       "track.18                   tags\n",
       "track.19                  title\n",
       "Name: 0, dtype: object"
      ]
     },
     "execution_count": 11,
     "metadata": {},
     "output_type": "execute_result"
    }
   ],
   "source": [
    "#Showing the data columns in a clear fashion to choose which ones I need easily\n",
    "tracks_raw.iloc[0]"
   ]
  },
  {
   "cell_type": "code",
   "execution_count": 12,
   "metadata": {},
   "outputs": [
    {
     "data": {
      "text/html": [
       "<div>\n",
       "<style scoped>\n",
       "    .dataframe tbody tr th:only-of-type {\n",
       "        vertical-align: middle;\n",
       "    }\n",
       "\n",
       "    .dataframe tbody tr th {\n",
       "        vertical-align: top;\n",
       "    }\n",
       "\n",
       "    .dataframe thead th {\n",
       "        text-align: right;\n",
       "    }\n",
       "</style>\n",
       "<table border=\"1\" class=\"dataframe\">\n",
       "  <thead>\n",
       "    <tr style=\"text-align: right;\">\n",
       "      <th></th>\n",
       "      <th>Track ID</th>\n",
       "      <th>year of release</th>\n",
       "      <th>favorites</th>\n",
       "      <th>genre</th>\n",
       "      <th>number of listens</th>\n",
       "      <th>artist name</th>\n",
       "      <th>track title</th>\n",
       "    </tr>\n",
       "  </thead>\n",
       "  <tbody>\n",
       "    <tr>\n",
       "      <th>12</th>\n",
       "      <td>135</td>\n",
       "      <td>2008-11-26 01:43:26</td>\n",
       "      <td>0</td>\n",
       "      <td>Rock</td>\n",
       "      <td>1832</td>\n",
       "      <td>Abominog</td>\n",
       "      <td>Father's Day</td>\n",
       "    </tr>\n",
       "    <tr>\n",
       "      <th>13</th>\n",
       "      <td>136</td>\n",
       "      <td>2008-11-26 01:43:35</td>\n",
       "      <td>0</td>\n",
       "      <td>Rock</td>\n",
       "      <td>1498</td>\n",
       "      <td>Abominog</td>\n",
       "      <td>Peel Back The Mountain Sky</td>\n",
       "    </tr>\n",
       "    <tr>\n",
       "      <th>27</th>\n",
       "      <td>151</td>\n",
       "      <td>2008-11-26 01:44:55</td>\n",
       "      <td>0</td>\n",
       "      <td>Rock</td>\n",
       "      <td>148</td>\n",
       "      <td>Animal Writes</td>\n",
       "      <td>Untitled 04</td>\n",
       "    </tr>\n",
       "    <tr>\n",
       "      <th>28</th>\n",
       "      <td>152</td>\n",
       "      <td>2008-11-26 01:44:58</td>\n",
       "      <td>0</td>\n",
       "      <td>Rock</td>\n",
       "      <td>98</td>\n",
       "      <td>Animal Writes</td>\n",
       "      <td>Untitled 11</td>\n",
       "    </tr>\n",
       "    <tr>\n",
       "      <th>29</th>\n",
       "      <td>153</td>\n",
       "      <td>2008-11-26 01:45:00</td>\n",
       "      <td>5</td>\n",
       "      <td>Rock</td>\n",
       "      <td>424</td>\n",
       "      <td>Arc and Sender</td>\n",
       "      <td>Hundred-Year Flood</td>\n",
       "    </tr>\n",
       "    <tr>\n",
       "      <th>...</th>\n",
       "      <td>...</td>\n",
       "      <td>...</td>\n",
       "      <td>...</td>\n",
       "      <td>...</td>\n",
       "      <td>...</td>\n",
       "      <td>...</td>\n",
       "      <td>...</td>\n",
       "    </tr>\n",
       "    <tr>\n",
       "      <th>106570</th>\n",
       "      <td>155315</td>\n",
       "      <td>2017-03-30 15:23:33</td>\n",
       "      <td>1</td>\n",
       "      <td>Rock</td>\n",
       "      <td>128</td>\n",
       "      <td>Spowder</td>\n",
       "      <td>Space Power Over-Watch Destroying Evil Rats</td>\n",
       "    </tr>\n",
       "    <tr>\n",
       "      <th>106571</th>\n",
       "      <td>155316</td>\n",
       "      <td>2017-03-30 15:23:34</td>\n",
       "      <td>1</td>\n",
       "      <td>Rock</td>\n",
       "      <td>102</td>\n",
       "      <td>Spowder</td>\n",
       "      <td>The Auger</td>\n",
       "    </tr>\n",
       "    <tr>\n",
       "      <th>106572</th>\n",
       "      <td>155317</td>\n",
       "      <td>2017-03-30 15:23:36</td>\n",
       "      <td>1</td>\n",
       "      <td>Rock</td>\n",
       "      <td>165</td>\n",
       "      <td>Spowder</td>\n",
       "      <td>Let's Skin Ruby</td>\n",
       "    </tr>\n",
       "    <tr>\n",
       "      <th>106573</th>\n",
       "      <td>155318</td>\n",
       "      <td>2017-03-30 15:23:37</td>\n",
       "      <td>2</td>\n",
       "      <td>Rock</td>\n",
       "      <td>168</td>\n",
       "      <td>Spowder</td>\n",
       "      <td>My House Smells Like Kim Deal/Pulp</td>\n",
       "    </tr>\n",
       "    <tr>\n",
       "      <th>106574</th>\n",
       "      <td>155319</td>\n",
       "      <td>2017-03-30 15:23:39</td>\n",
       "      <td>0</td>\n",
       "      <td>Rock</td>\n",
       "      <td>294</td>\n",
       "      <td>Spowder</td>\n",
       "      <td>The Man With Two Mouths</td>\n",
       "    </tr>\n",
       "  </tbody>\n",
       "</table>\n",
       "<p>14182 rows × 7 columns</p>\n",
       "</div>"
      ],
      "text/plain": [
       "       Track ID      year of release favorites genre number of listens  \\\n",
       "12          135  2008-11-26 01:43:26         0  Rock              1832   \n",
       "13          136  2008-11-26 01:43:35         0  Rock              1498   \n",
       "27          151  2008-11-26 01:44:55         0  Rock               148   \n",
       "28          152  2008-11-26 01:44:58         0  Rock                98   \n",
       "29          153  2008-11-26 01:45:00         5  Rock               424   \n",
       "...         ...                  ...       ...   ...               ...   \n",
       "106570   155315  2017-03-30 15:23:33         1  Rock               128   \n",
       "106571   155316  2017-03-30 15:23:34         1  Rock               102   \n",
       "106572   155317  2017-03-30 15:23:36         1  Rock               165   \n",
       "106573   155318  2017-03-30 15:23:37         2  Rock               168   \n",
       "106574   155319  2017-03-30 15:23:39         0  Rock               294   \n",
       "\n",
       "           artist name                                  track title  \n",
       "12            Abominog                                 Father's Day  \n",
       "13            Abominog                   Peel Back The Mountain Sky  \n",
       "27       Animal Writes                                  Untitled 04  \n",
       "28       Animal Writes                                  Untitled 11  \n",
       "29      Arc and Sender                           Hundred-Year Flood  \n",
       "...                ...                                          ...  \n",
       "106570         Spowder  Space Power Over-Watch Destroying Evil Rats  \n",
       "106571         Spowder                                    The Auger  \n",
       "106572         Spowder                              Let's Skin Ruby  \n",
       "106573         Spowder           My House Smells Like Kim Deal/Pulp  \n",
       "106574         Spowder                      The Man With Two Mouths  \n",
       "\n",
       "[14182 rows x 7 columns]"
      ]
     },
     "execution_count": 12,
     "metadata": {},
     "output_type": "execute_result"
    }
   ],
   "source": [
    "tracks_cleaned = (\n",
    "    #choose the columns I need\n",
    "    tracks_raw[['Unnamed: 0', 'track.3', 'track.6', 'track.7', 'track.14', 'artist.12', 'track.19']]\n",
    "    \n",
    "    #https://www.freecodecamp.org/news/drop-list-of-rows-from-pandas-dataframe/\n",
    "    #drop all rows that are not the \"Rock\" 'genre'\n",
    "    .drop(tracks_raw.loc[(tracks_raw['track.7'] != \"Rock\")].index)\n",
    "    \n",
    "    .rename(columns = {'Unnamed: 0': \"Track ID\", 'track.3': \"year of release\", 'track.6': \"favorites\", 'track.7': \"genre\", 'track.14': \"number of listens\", 'artist.12': \"artist name\", 'track.19': \"track title\"})\n",
    "    \n",
    "    #https://pandas.pydata.org/docs/reference/api/pandas.DataFrame.dropna.html\n",
    "    #drop every row with a NaN value\n",
    "    .dropna()\n",
    ")\n",
    "\n",
    "\n",
    "tracks_cleaned"
   ]
  },
  {
   "cell_type": "markdown",
   "metadata": {},
   "source": [
    "Track ID, year of release, and genre are columns that I need for my research question at the moment. I included some other rows because I thought they may be of interest.\n",
    "\n",
    "Next, I want to change the year of release values to only year. Furthermore, I want to change all numerical values (except Track ID, since the ID is akin to a name) into integers from strings so that it is possible to order them correctly. Last, I will restructure the columns in order most comfortable to me. I also want to get rid of 2008 and 2017 because the number of tracks released for these two years do not account for all 12 months; only partial data is present for these years."
   ]
  },
  {
   "cell_type": "code",
   "execution_count": 13,
   "metadata": {},
   "outputs": [
    {
     "data": {
      "text/html": [
       "<div>\n",
       "<style scoped>\n",
       "    .dataframe tbody tr th:only-of-type {\n",
       "        vertical-align: middle;\n",
       "    }\n",
       "\n",
       "    .dataframe tbody tr th {\n",
       "        vertical-align: top;\n",
       "    }\n",
       "\n",
       "    .dataframe thead th {\n",
       "        text-align: right;\n",
       "    }\n",
       "</style>\n",
       "<table border=\"1\" class=\"dataframe\">\n",
       "  <thead>\n",
       "    <tr style=\"text-align: right;\">\n",
       "      <th></th>\n",
       "      <th>Track ID</th>\n",
       "      <th>genre</th>\n",
       "      <th>year of release</th>\n",
       "      <th>number of listens</th>\n",
       "      <th>track title</th>\n",
       "      <th>artist name</th>\n",
       "      <th>favorites</th>\n",
       "    </tr>\n",
       "  </thead>\n",
       "  <tbody>\n",
       "    <tr>\n",
       "      <th>0</th>\n",
       "      <td>4996</td>\n",
       "      <td>Rock</td>\n",
       "      <td>2009</td>\n",
       "      <td>1030</td>\n",
       "      <td>Hassle St.</td>\n",
       "      <td>New Bomb Turks</td>\n",
       "      <td>3</td>\n",
       "    </tr>\n",
       "    <tr>\n",
       "      <th>1</th>\n",
       "      <td>4997</td>\n",
       "      <td>Rock</td>\n",
       "      <td>2009</td>\n",
       "      <td>224</td>\n",
       "      <td>Interview: Part 2</td>\n",
       "      <td>New Bomb Turks</td>\n",
       "      <td>0</td>\n",
       "    </tr>\n",
       "    <tr>\n",
       "      <th>2</th>\n",
       "      <td>4998</td>\n",
       "      <td>Rock</td>\n",
       "      <td>2009</td>\n",
       "      <td>186</td>\n",
       "      <td>Interview: Part 3</td>\n",
       "      <td>New Bomb Turks</td>\n",
       "      <td>0</td>\n",
       "    </tr>\n",
       "    <tr>\n",
       "      <th>3</th>\n",
       "      <td>4999</td>\n",
       "      <td>Rock</td>\n",
       "      <td>2009</td>\n",
       "      <td>873</td>\n",
       "      <td>Grifted</td>\n",
       "      <td>New Bomb Turks</td>\n",
       "      <td>5</td>\n",
       "    </tr>\n",
       "    <tr>\n",
       "      <th>4</th>\n",
       "      <td>5000</td>\n",
       "      <td>Rock</td>\n",
       "      <td>2009</td>\n",
       "      <td>193</td>\n",
       "      <td>Interview: Part 4</td>\n",
       "      <td>New Bomb Turks</td>\n",
       "      <td>0</td>\n",
       "    </tr>\n",
       "    <tr>\n",
       "      <th>...</th>\n",
       "      <td>...</td>\n",
       "      <td>...</td>\n",
       "      <td>...</td>\n",
       "      <td>...</td>\n",
       "      <td>...</td>\n",
       "      <td>...</td>\n",
       "      <td>...</td>\n",
       "    </tr>\n",
       "    <tr>\n",
       "      <th>12331</th>\n",
       "      <td>148638</td>\n",
       "      <td>Rock</td>\n",
       "      <td>2016</td>\n",
       "      <td>52</td>\n",
       "      <td>Young Days</td>\n",
       "      <td>Strawberry Blonde</td>\n",
       "      <td>1</td>\n",
       "    </tr>\n",
       "    <tr>\n",
       "      <th>12332</th>\n",
       "      <td>148639</td>\n",
       "      <td>Rock</td>\n",
       "      <td>2016</td>\n",
       "      <td>79</td>\n",
       "      <td>Another Dream</td>\n",
       "      <td>Strawberry Blonde</td>\n",
       "      <td>1</td>\n",
       "    </tr>\n",
       "    <tr>\n",
       "      <th>12333</th>\n",
       "      <td>148640</td>\n",
       "      <td>Rock</td>\n",
       "      <td>2016</td>\n",
       "      <td>49</td>\n",
       "      <td>Here We Go</td>\n",
       "      <td>Strawberry Blonde</td>\n",
       "      <td>1</td>\n",
       "    </tr>\n",
       "    <tr>\n",
       "      <th>12334</th>\n",
       "      <td>148641</td>\n",
       "      <td>Rock</td>\n",
       "      <td>2016</td>\n",
       "      <td>59</td>\n",
       "      <td>Out of Place</td>\n",
       "      <td>Strawberry Blonde</td>\n",
       "      <td>0</td>\n",
       "    </tr>\n",
       "    <tr>\n",
       "      <th>12335</th>\n",
       "      <td>148642</td>\n",
       "      <td>Rock</td>\n",
       "      <td>2016</td>\n",
       "      <td>73</td>\n",
       "      <td>Biding Time</td>\n",
       "      <td>Strawberry Blonde</td>\n",
       "      <td>0</td>\n",
       "    </tr>\n",
       "  </tbody>\n",
       "</table>\n",
       "<p>12336 rows × 7 columns</p>\n",
       "</div>"
      ],
      "text/plain": [
       "      Track ID genre  year of release  number of listens        track title  \\\n",
       "0         4996  Rock             2009               1030         Hassle St.   \n",
       "1         4997  Rock             2009                224  Interview: Part 2   \n",
       "2         4998  Rock             2009                186  Interview: Part 3   \n",
       "3         4999  Rock             2009                873            Grifted   \n",
       "4         5000  Rock             2009                193  Interview: Part 4   \n",
       "...        ...   ...              ...                ...                ...   \n",
       "12331   148638  Rock             2016                 52         Young Days   \n",
       "12332   148639  Rock             2016                 79      Another Dream   \n",
       "12333   148640  Rock             2016                 49         Here We Go   \n",
       "12334   148641  Rock             2016                 59       Out of Place   \n",
       "12335   148642  Rock             2016                 73        Biding Time   \n",
       "\n",
       "             artist name  favorites  \n",
       "0         New Bomb Turks          3  \n",
       "1         New Bomb Turks          0  \n",
       "2         New Bomb Turks          0  \n",
       "3         New Bomb Turks          5  \n",
       "4         New Bomb Turks          0  \n",
       "...                  ...        ...  \n",
       "12331  Strawberry Blonde          1  \n",
       "12332  Strawberry Blonde          1  \n",
       "12333  Strawberry Blonde          1  \n",
       "12334  Strawberry Blonde          0  \n",
       "12335  Strawberry Blonde          0  \n",
       "\n",
       "[12336 rows x 7 columns]"
      ]
     },
     "execution_count": 13,
     "metadata": {},
     "output_type": "execute_result"
    }
   ],
   "source": [
    "tracks_cleaned['year of release'] = tracks_cleaned['year of release'].str[:4]\n",
    "tracks_cleaned[['year of release', 'favorites', 'number of listens']] = tracks_cleaned[['year of release', 'favorites', 'number of listens']].astype(int)\n",
    "tracks_cleaned = tracks_cleaned[['Track ID', 'genre', 'year of release', 'number of listens', 'track title', 'artist name', 'favorites']]\n",
    "tracks_cleaned = tracks_cleaned.drop(tracks_cleaned.loc[(tracks_cleaned['year of release'] == 2008)].index)\n",
    "tracks_cleaned = tracks_cleaned.drop(tracks_cleaned.loc[(tracks_cleaned['year of release'] == 2017)].index)\n",
    "tracks_cleaned = tracks_cleaned.reset_index(drop=True)\n",
    "tracks_cleaned"
   ]
  },
  {
   "cell_type": "markdown",
   "metadata": {},
   "source": [
    "# Task 3: Method Chaining and writing Python programs"
   ]
  },
  {
   "cell_type": "code",
   "execution_count": 14,
   "metadata": {},
   "outputs": [
    {
     "data": {
      "text/html": [
       "<div>\n",
       "<style scoped>\n",
       "    .dataframe tbody tr th:only-of-type {\n",
       "        vertical-align: middle;\n",
       "    }\n",
       "\n",
       "    .dataframe tbody tr th {\n",
       "        vertical-align: top;\n",
       "    }\n",
       "\n",
       "    .dataframe thead th {\n",
       "        text-align: right;\n",
       "    }\n",
       "</style>\n",
       "<table border=\"1\" class=\"dataframe\">\n",
       "  <thead>\n",
       "    <tr style=\"text-align: right;\">\n",
       "      <th></th>\n",
       "      <th>Track ID</th>\n",
       "      <th>genre</th>\n",
       "      <th>year of release</th>\n",
       "      <th>number of listens</th>\n",
       "      <th>track title</th>\n",
       "      <th>artist name</th>\n",
       "      <th>favorites</th>\n",
       "    </tr>\n",
       "  </thead>\n",
       "  <tbody>\n",
       "    <tr>\n",
       "      <th>0</th>\n",
       "      <td>4996</td>\n",
       "      <td>Rock</td>\n",
       "      <td>2009</td>\n",
       "      <td>1030</td>\n",
       "      <td>Hassle St.</td>\n",
       "      <td>New Bomb Turks</td>\n",
       "      <td>3</td>\n",
       "    </tr>\n",
       "    <tr>\n",
       "      <th>1</th>\n",
       "      <td>4997</td>\n",
       "      <td>Rock</td>\n",
       "      <td>2009</td>\n",
       "      <td>224</td>\n",
       "      <td>Interview: Part 2</td>\n",
       "      <td>New Bomb Turks</td>\n",
       "      <td>0</td>\n",
       "    </tr>\n",
       "    <tr>\n",
       "      <th>2</th>\n",
       "      <td>4998</td>\n",
       "      <td>Rock</td>\n",
       "      <td>2009</td>\n",
       "      <td>186</td>\n",
       "      <td>Interview: Part 3</td>\n",
       "      <td>New Bomb Turks</td>\n",
       "      <td>0</td>\n",
       "    </tr>\n",
       "    <tr>\n",
       "      <th>3</th>\n",
       "      <td>4999</td>\n",
       "      <td>Rock</td>\n",
       "      <td>2009</td>\n",
       "      <td>873</td>\n",
       "      <td>Grifted</td>\n",
       "      <td>New Bomb Turks</td>\n",
       "      <td>5</td>\n",
       "    </tr>\n",
       "    <tr>\n",
       "      <th>4</th>\n",
       "      <td>5000</td>\n",
       "      <td>Rock</td>\n",
       "      <td>2009</td>\n",
       "      <td>193</td>\n",
       "      <td>Interview: Part 4</td>\n",
       "      <td>New Bomb Turks</td>\n",
       "      <td>0</td>\n",
       "    </tr>\n",
       "    <tr>\n",
       "      <th>...</th>\n",
       "      <td>...</td>\n",
       "      <td>...</td>\n",
       "      <td>...</td>\n",
       "      <td>...</td>\n",
       "      <td>...</td>\n",
       "      <td>...</td>\n",
       "      <td>...</td>\n",
       "    </tr>\n",
       "    <tr>\n",
       "      <th>12331</th>\n",
       "      <td>148638</td>\n",
       "      <td>Rock</td>\n",
       "      <td>2016</td>\n",
       "      <td>52</td>\n",
       "      <td>Young Days</td>\n",
       "      <td>Strawberry Blonde</td>\n",
       "      <td>1</td>\n",
       "    </tr>\n",
       "    <tr>\n",
       "      <th>12332</th>\n",
       "      <td>148639</td>\n",
       "      <td>Rock</td>\n",
       "      <td>2016</td>\n",
       "      <td>79</td>\n",
       "      <td>Another Dream</td>\n",
       "      <td>Strawberry Blonde</td>\n",
       "      <td>1</td>\n",
       "    </tr>\n",
       "    <tr>\n",
       "      <th>12333</th>\n",
       "      <td>148640</td>\n",
       "      <td>Rock</td>\n",
       "      <td>2016</td>\n",
       "      <td>49</td>\n",
       "      <td>Here We Go</td>\n",
       "      <td>Strawberry Blonde</td>\n",
       "      <td>1</td>\n",
       "    </tr>\n",
       "    <tr>\n",
       "      <th>12334</th>\n",
       "      <td>148641</td>\n",
       "      <td>Rock</td>\n",
       "      <td>2016</td>\n",
       "      <td>59</td>\n",
       "      <td>Out of Place</td>\n",
       "      <td>Strawberry Blonde</td>\n",
       "      <td>0</td>\n",
       "    </tr>\n",
       "    <tr>\n",
       "      <th>12335</th>\n",
       "      <td>148642</td>\n",
       "      <td>Rock</td>\n",
       "      <td>2016</td>\n",
       "      <td>73</td>\n",
       "      <td>Biding Time</td>\n",
       "      <td>Strawberry Blonde</td>\n",
       "      <td>0</td>\n",
       "    </tr>\n",
       "  </tbody>\n",
       "</table>\n",
       "<p>12336 rows × 7 columns</p>\n",
       "</div>"
      ],
      "text/plain": [
       "      Track ID genre  year of release  number of listens        track title  \\\n",
       "0         4996  Rock             2009               1030         Hassle St.   \n",
       "1         4997  Rock             2009                224  Interview: Part 2   \n",
       "2         4998  Rock             2009                186  Interview: Part 3   \n",
       "3         4999  Rock             2009                873            Grifted   \n",
       "4         5000  Rock             2009                193  Interview: Part 4   \n",
       "...        ...   ...              ...                ...                ...   \n",
       "12331   148638  Rock             2016                 52         Young Days   \n",
       "12332   148639  Rock             2016                 79      Another Dream   \n",
       "12333   148640  Rock             2016                 49         Here We Go   \n",
       "12334   148641  Rock             2016                 59       Out of Place   \n",
       "12335   148642  Rock             2016                 73        Biding Time   \n",
       "\n",
       "             artist name  favorites  \n",
       "0         New Bomb Turks          3  \n",
       "1         New Bomb Turks          0  \n",
       "2         New Bomb Turks          0  \n",
       "3         New Bomb Turks          5  \n",
       "4         New Bomb Turks          0  \n",
       "...                  ...        ...  \n",
       "12331  Strawberry Blonde          1  \n",
       "12332  Strawberry Blonde          1  \n",
       "12333  Strawberry Blonde          1  \n",
       "12334  Strawberry Blonde          0  \n",
       "12335  Strawberry Blonde          0  \n",
       "\n",
       "[12336 rows x 7 columns]"
      ]
     },
     "execution_count": 14,
     "metadata": {},
     "output_type": "execute_result"
    }
   ],
   "source": [
    "import pandas as pd\n",
    "\n",
    "tracks_raw = pd.read_csv(\"../data/raw/tracks.csv\", low_memory=False)\n",
    "\n",
    "tracks_cleanup = (\n",
    "    tracks_raw[['Unnamed: 0', 'track.3', 'track.6', 'track.7', 'track.14', 'artist.12', 'track.19']]\n",
    "    .drop(tracks_raw.loc[(tracks_raw['track.7'] != \"Rock\")].index)\n",
    "    .rename(columns = {'Unnamed: 0': \"Track ID\", 'track.3': \"year of release\", 'track.6': \"favorites\", 'track.7': \"genre\", 'track.14': \"number of listens\", 'artist.12': \"artist name\", 'track.19': \"track title\"})\n",
    "    .dropna()\n",
    ")\n",
    "    \n",
    "\n",
    "tracks_cleanup['year of release'] = tracks_cleanup['year of release'].str[:4]\n",
    "tracks_cleanup[['year of release', 'favorites', 'number of listens']] = tracks_cleanup[['year of release', 'favorites', 'number of listens']].astype(int)\n",
    "tracks_cleanup = tracks_cleanup.drop(tracks_cleanup.loc[(tracks_cleanup['year of release'] == 2008)].index)\n",
    "tracks_cleanup = tracks_cleanup.drop(tracks_cleanup.loc[(tracks_cleanup['year of release'] == 2017)].index)\n",
    "tracks_cleanup = tracks_cleanup[['Track ID', 'genre', 'year of release', 'number of listens', 'track title', 'artist name', 'favorites']]\n",
    "tracks_cleanup = tracks_cleanup.reset_index(drop=True)\n",
    "tracks_cleanup"
   ]
  },
  {
   "cell_type": "code",
   "execution_count": 15,
   "metadata": {},
   "outputs": [],
   "source": [
    "#Refer to project_functions2.py for more details\n",
    "\n",
    "import pandas as pd\n",
    "\n",
    "tracks_raw = pd.read_csv(\"../data/raw/tracks.csv\", low_memory=False)\n",
    "\n",
    "def jinData(jintracks = \"../data/raw/tracks.csv\"):\n",
    "    tracks_cleanup = (\n",
    "    tracks_raw[['Unnamed: 0', 'track.3', 'track.6', 'track.7', 'track.14', 'artist.12', 'track.19']]\n",
    "    .drop(tracks_raw.loc[(tracks_raw['track.7'] != \"Rock\")].index)\n",
    "    .rename(columns = {'Unnamed: 0': \"Track ID\", 'track.3': \"year of release\", 'track.6': \"favorites\", 'track.7': \"genre\", 'track.14': \"number of listens\", 'artist.12': \"artist name\", 'track.19': \"track title\"})\n",
    "    .dropna()\n",
    ")\n",
    "\n",
    "    \n",
    "    tracks_cleanup['year of release'] = tracks_cleanup['year of release'].str[:4]\n",
    "    tracks_cleanup[['year of release', 'favorites', 'number of listens']] = tracks_cleanup[['year of release', 'favorites', 'number of listens']].astype(int)\n",
    "    tracks_cleanup = tracks_cleanup.drop(tracks_cleanup.loc[(tracks_cleanup['year of release'] == 2008)].index)\n",
    "    tracks_cleanup = tracks_cleanup.drop(tracks_cleanup.loc[(tracks_cleanup['year of release'] == 2017)].index)\n",
    "    tracks_cleanup = tracks_cleanup[['Track ID', 'genre', 'year of release', 'number of listens', 'track title', 'artist name', 'favorites']]\n",
    "    tracks_cleanup = tracks_cleanup.reset_index(drop=True)\n",
    "    tracks_cleanup\n",
    "\n",
    "    return tracks_cleanup"
   ]
  },
  {
   "cell_type": "code",
   "execution_count": 16,
   "metadata": {},
   "outputs": [],
   "source": [
    "tracks_cleanup.to_csv(r\"../data/processed/processed_by_function2.csv\")"
   ]
  },
  {
   "cell_type": "markdown",
   "metadata": {},
   "source": [
    "# Task 4: Conducting analysis to help answer my research question\n",
    "\n",
    "With the organized data available, I am able to find what I am looking for, which was observing the trend of the number of rock genre tracks released annually, with clarity. "
   ]
  },
  {
   "cell_type": "code",
   "execution_count": 17,
   "metadata": {},
   "outputs": [
    {
     "name": "stdout",
     "output_type": "stream",
     "text": [
      "2012    2066\n",
      "2009    2000\n",
      "2011    1831\n",
      "2013    1544\n",
      "2010    1359\n",
      "2016    1349\n",
      "2015    1251\n",
      "2014     936\n",
      "Name: year of release, dtype: int64\n"
     ]
    }
   ],
   "source": [
    "yearly_release = tracks_cleanup['year of release']\n",
    "print(yearly_release.value_counts())"
   ]
  },
  {
   "cell_type": "code",
   "execution_count": 18,
   "metadata": {},
   "outputs": [
    {
     "data": {
      "image/png": "[encoded data removed]",
      "text/plain": [
       "<Figure size 1368x576 with 1 Axes>"
      ]
     },
     "metadata": {
      "needs_background": "light"
     },
     "output_type": "display_data"
    }
   ],
   "source": [
    "fig = plt.figure(figsize=(19,8))\n",
    "plt.title('Annual number of track releases for \"Rock\" genre')\n",
    "plt.xlabel(\"Number of releases\")\n",
    "plt.ylabel(\"Year of release\")\n",
    "yearly_release.value_counts().sort_index()[:].plot(kind='barh').grid(True)"
   ]
  },
  {
   "cell_type": "markdown",
   "metadata": {},
   "source": [
    "It is difficult to observe a proper trend with these fluctuating release numbers on the bar chart above, but there is a noticeable drop in rock songs released from 2014 onwards, compared to the amount of releases before it. "
   ]
  },
  {
   "cell_type": "code",
   "execution_count": 19,
   "metadata": {},
   "outputs": [
    {
     "data": {
      "image/png": "[encoded data removed]",
      "text/plain": [
       "<Figure size 1080x720 with 1 Axes>"
      ]
     },
     "metadata": {
      "needs_background": "light"
     },
     "output_type": "display_data"
    }
   ],
   "source": [
    "#https://datatofish.com/line-chart-python-matplotlib/\n",
    "fig = plt.figure(figsize=(15,10))\n",
    "plt.ylim(0, 2250)\n",
    "plt.title('Annual number of track releases for \"Rock\" genre')\n",
    "plt.xlabel(\"Year of release\")\n",
    "plt.ylabel(\"Number of releases\")\n",
    "yearly_release.value_counts().sort_index()[:].plot(kind='line', color='red', marker='o').grid(True)"
   ]
  },
  {
   "cell_type": "markdown",
   "metadata": {},
   "source": [
    "The line graph depicts the trend more clearly. We can see how there was a significant drop in rock tracks released in 2010, but the number of tracks released was higher during 2009, 2011 and until 2012. We can see another decrease in releases from 2012 to 2014, and then a small but steady rise until 2016. After the drastic fluctuations, the curve steadies from 2014 to 2016.  "
   ]
  },
  {
   "cell_type": "code",
   "execution_count": 20,
   "metadata": {},
   "outputs": [
    {
     "data": {
      "text/plain": [
       "<AxesSubplot:ylabel='year of release'>"
      ]
     },
     "execution_count": 20,
     "metadata": {},
     "output_type": "execute_result"
    },
    {
     "data": {
      "image/png": "[encoded data removed]",
      "text/plain": [
       "<Figure size 432x288 with 1 Axes>"
      ]
     },
     "metadata": {},
     "output_type": "display_data"
    }
   ],
   "source": [
    "#https://indianaiproduction.com/matplotlib-pie-chart/\n",
    "plt.axis(\"off\")\n",
    "yearly_release.value_counts().sort_index()[:].plot(kind='pie', startangle = 90, autopct='%1.1f%%', radius = 3, shadow = True)"
   ]
  },
  {
   "cell_type": "code",
   "execution_count": 21,
   "metadata": {},
   "outputs": [
    {
     "data": {
      "text/plain": [
       "34.70474346563408"
      ]
     },
     "execution_count": 21,
     "metadata": {},
     "output_type": "execute_result"
    }
   ],
   "source": [
    "100-1349/2066*100"
   ]
  },
  {
   "cell_type": "markdown",
   "metadata": {},
   "source": [
    "1349 tracks in 2016 is about a 35 percent decrease from 2066, the most tracks released in 2012. However, if you look at the pie chart showing the difference in tracks released in relation to the total number of tracks released from all the years combined, the differences do not appear to be extremely large. Contrary to my expectations, the rock genre does not seem to be dying out yet."
   ]
  }
 ],
 "metadata": {
  "kernelspec": {
   "display_name": "Python 3 (ipykernel)",
   "language": "python",
   "name": "python3"
  },
  "language_info": {
   "codemirror_mode": {
    "name": "ipython",
    "version": 3
   },
   "file_extension": ".py",
   "mimetype": "text/x-python",
   "name": "python",
   "nbconvert_exporter": "python",
   "pygments_lexer": "ipython3",
   "version": "3.9.5"
  }
 },
 "nbformat": 4,
 "nbformat_minor": 4
}
